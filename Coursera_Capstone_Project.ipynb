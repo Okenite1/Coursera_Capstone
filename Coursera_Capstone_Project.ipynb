{
 "cells": [
  {
   "cell_type": "markdown",
   "metadata": {},
   "source": [
    "# Coursera Capstone Project - Traffic Accident Severity Prediction\n",
    "## Predicting the traffic accident severity using Machine Learning Algorithms\n",
    "### Applied Data Science Capstone by IBM/Coursera"
   ]
  },
  {
   "cell_type": "markdown",
   "metadata": {},
   "source": [
    "## Table of contents\n",
    "* [Introduction: Business Problem](#introduction)\n",
    "* [Data](#data)\n",
    "* [Methodology](#methodology)\n",
    "* [Results and Discussion](#results)\n",
    "* [Conclusion](#conclusion)"
   ]
  },
  {
   "cell_type": "markdown",
   "metadata": {},
   "source": [
    "## Introduction: Business Problem <a name=\"introduction\"></a>"
   ]
  },
  {
   "cell_type": "markdown",
   "metadata": {},
   "source": [
    "In the world more than 3700 people lose their lives, everyday, in road accidents, and other millions of people report injuries or permanent disabilities. \n",
    "\n",
    "Would be helpful to worn drivers about the severity of an accident they could occur in, predicting it taking into consideration real time variables such as the weather condition, road condition, day or night, visibility and others. \n",
    "\n",
    "All the considerations and results will be based on this criteria, clearifing which algorithm is the most suitable for the present case study and their respective accuracy calculating the accidents severity."
   ]
  },
  {
   "cell_type": "markdown",
   "metadata": {},
   "source": [
    "## Data <a name=\"data\"></a>"
   ]
  },
  {
   "cell_type": "markdown",
   "metadata": {},
   "source": [
    "To obtain the best model accuracy we need to clean and balance the dataset first. \n",
    "Moreover, the most important variables to take into consideration to train our model are:\n",
    "\n",
    "* Road Conditions\n",
    "* Weather Conditions\n",
    "* Light Conditions \n",
    "\n",
    "Other Variables such as the position of the accident ( Coordinates ), junction type, use of drugs/alcohol, speeding and/or inattention can be use to determine whether the presence of a certain correlation in road accidents and their severity.\n",
    "\n",
    "The dataset and other sources that will be used to address this problem are:\n",
    "* The Seattle Collisions Dataset, available at \"https://data-seattlecitygis.opendata.arcgis.com/datasets/collisions\"\n",
    "* Seattle GeoJson file reporting the city and its Tracts"
   ]
  }
 ],
 "metadata": {
  "kernelspec": {
   "display_name": "Python 3",
   "language": "python",
   "name": "python3"
  },
  "language_info": {
   "codemirror_mode": {
    "name": "ipython",
    "version": 3
   },
   "file_extension": ".py",
   "mimetype": "text/x-python",
   "name": "python",
   "nbconvert_exporter": "python",
   "pygments_lexer": "ipython3",
   "version": "3.7.6"
  }
 },
 "nbformat": 4,
 "nbformat_minor": 4
}
